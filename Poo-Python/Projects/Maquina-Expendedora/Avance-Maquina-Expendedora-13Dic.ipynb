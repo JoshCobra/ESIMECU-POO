{
 "cells": [
  {
   "cell_type": "markdown",
   "metadata": {},
   "source": [
    "# Avance Proyecto Maquina Expendedora\n",
    "\n",
    "Se implemento hasta el momento, la clase `MaquinaExpendedora`, no completada aun, pero con su estructura básica ya planteada y con algunos métodos implementados.\n",
    "- Se implemento el método constructor `__init__` que inicializa los atributos de la clase,donde se inicializa el diccionario `bandejas` que contendrá las bandejas, que a su vez contendrán los productos, también se inicializa el atributo `dinero_ingresado` que contendrá el dinero que se va ingresando a la maquina, este con el objetivo de poder realizar las transacciones y devolver cambio al usuario."
   ]
  },
  {
   "cell_type": "code",
   "execution_count": 1,
   "metadata": {},
   "outputs": [],
   "source": [
    "class MaquinaExpendedora:\n",
    "    def __init__(self):\n",
    "        self.bandejas = {}\n",
    "        self.dinero_ingresado = 0.0"
   ]
  },
  {
   "cell_type": "markdown",
   "metadata": {},
   "source": [
    "- Se implemento el método `agregar_bandeja` que permite agregar una bandeja a la maquina, este método recibe como argumento el código de la bandeja y lo agrega al diccionario `bandejas` de la maquina, realizando primero una valoración para verificar que el código de la bandeja no exista ya en la maquina."
   ]
  },
  {
   "cell_type": "code",
   "execution_count": 2,
   "metadata": {},
   "outputs": [],
   "source": [
    "    def agregar_bandeja(self, codigo):\n",
    "        if codigo in self.bandejas:\n",
    "            print(f\"Bandeja {codigo} ya existe\")\n",
    "        else:\n",
    "            self.bandejas[codigo] = Bandeja(codigo)"
   ]
  },
  {
   "cell_type": "markdown",
   "metadata": {},
   "source": [
    "- Se busca implementar los métodos faltantes para completar el funcionamiento de la maquina expendedora, el método `mostrar_productos`, el metodo `insertar_dinero`, el metodo `seleccionar_producto`, etc. hasta el momento, este es el avance del proyecto."
   ]
  },
  {
   "cell_type": "code",
   "execution_count": 3,
   "metadata": {},
   "outputs": [
    {
     "data": {
      "text/plain": [
       "'         letra, numero = codigo[0].upper(), codigo[1]\\n    if letra not in self.bandejas or not numero.isdigit():\\n        print(\"Codigo Invalido\")\\n        return  '"
      ]
     },
     "execution_count": 3,
     "metadata": {},
     "output_type": "execute_result"
    }
   ],
   "source": [
    "    def mostrar_productos(self):\n",
    "        print(f\"\\n -- PRODUCTOS DISPONIBLES --\")\n",
    "        for codigo, bandeja in self.bandejas.items():\n",
    "            bandeja.mostrar_productos()\n",
    "        print()\n",
    "\n",
    "    def insertar_dinero(self, monto):\n",
    "        self.dinero_ingresado += monto\n",
    "        print(f\"Dinero ingresado: ${self.dinero_ingresado:.2f}\") #.2f delimita a dos decimales\n",
    "\n",
    "    def seleccionar_producto(self, codigo):\n",
    "        if len(codigo) != 2:\n",
    "            print(\"Codigo invalido. Use una letra (A-F) y un numero (0-10)\")\n",
    "            return \n",
    "        \n",
    "\"\"\"         letra, numero = codigo[0].upper(), codigo[1]\n",
    "        if letra not in self.bandejas or not numero.isdigit():\n",
    "            print(\"Codigo Invalido\")\n",
    "            return  \"\"\""
   ]
  },
  {
   "cell_type": "markdown",
   "metadata": {},
   "source": [
    "### Se adjunta el código completo\n",
    "El código completo del proyecto hasta el momento de este avance, no se garantiza en esta revision la funcionalidad del código, ya que aun no se ha completado, pero se adjunta para su revisión."
   ]
  },
  {
   "cell_type": "markdown",
   "metadata": {},
   "source": [
    "- Se implemento también herencia para la clase `Producto`, que es la clase padre de las clases `ProductoBebida` y `ProductoSnack`, que son las clases hijas que representan los productos que se pueden vender en la maquina expendedora."
   ]
  },
  {
   "cell_type": "code",
   "execution_count": 4,
   "metadata": {},
   "outputs": [
    {
     "name": "stdout",
     "output_type": "stream",
     "text": [
      "-- BANDEJA A --\n",
      "A0:  Doritos - $22 (Stock: 10) Tamaño: 76gr\n",
      "A1:  Sabritas Adobadas - $21 (Stock: 5) Tamaño: 73gr\n",
      "A2:  Sabritas - $20.4 (Stock: 5) Tamaño: 75gr\n",
      "-- BANDEJA B --\n",
      "B0:  Doritos - $22 (Stock: 7) Tamaño: 76gr\n",
      "-- BANDEJA C --\n",
      "C0: Pepsi - $15 (Stock: 6) Tamaño: 600ml (Refrigerado)\n",
      "C1: Coca Cola - $18 (Stock: 6) Tamaño: 600ml (No Refrigerado)\n"
     ]
    },
    {
     "data": {
      "text/plain": [
       "'         letra, numero = codigo[0].upper(), codigo[1]\\n        if letra not in self.bandejas or not numero.isdigit():\\n            print(\"Codigo Invalido\")\\n            return  '"
      ]
     },
     "execution_count": 4,
     "metadata": {},
     "output_type": "execute_result"
    }
   ],
   "source": [
    "# Clase Producto\n",
    "class Producto:\n",
    "    def __init__(self, nombre, precio, stock):\n",
    "        self.nombre = nombre\n",
    "        self.precio = precio\n",
    "        self.stock = stock\n",
    "\n",
    "    def __str__(self):\n",
    "        # devuelve información del producto, nombre,precio,stock\n",
    "        return f\"{self.nombre} - ${self.precio} (Stock: {self.stock})\"\n",
    "\n",
    "# Clase Producto Snack    \n",
    "class ProductoSnack(Producto):\n",
    "    def __init__(self, nombre, precio, stock, tamanio):\n",
    "        super().__init__(nombre, precio, stock)\n",
    "        self.tamanio = tamanio\n",
    "\n",
    "    def __str__(self):\n",
    "        return f\" {super().__str__()} Tamaño: {self.tamanio}gr\"\n",
    "    \n",
    "# Clase Producto Bebida\n",
    "class ProductoBebida(Producto):\n",
    "    def __init__(self, nombre, precio, stock, tamanio, refrigerado=False):\n",
    "        super().__init__(nombre, precio, stock)\n",
    "        self.tamanio = tamanio\n",
    "        self.refrigerado = refrigerado\n",
    "\n",
    "    def __str__(self):\n",
    "        if self.refrigerado:\n",
    "            return f\"{super().__str__()} Tamaño: {self.tamanio}ml (Refrigerado)\"\n",
    "        else:\n",
    "            return f\"{super().__str__()} Tamaño: {self.tamanio}ml (No Refrigerado)\"\n",
    "        \n",
    "        \n",
    "# Clase Bandeja\n",
    "class Bandeja:\n",
    "    def __init__(self, codigo):\n",
    "        self.codigo = codigo\n",
    "        self.productos = {} #Diccionario para los productos\n",
    "\n",
    "    def agregar_producto(self, posicion, producto):\n",
    "        if posicion in self.productos:\n",
    "            print(f\"Ya se encuentra un producto en la posición {posicion}\")\n",
    "        else :\n",
    "            self.productos[posicion] = producto\n",
    "\n",
    "    def obtener_producto(self,posicion):\n",
    "        return self.productos.get(posicion, None) # método get para obtener el producto indicando mediante su posición\n",
    "        # verifica si la posición existe y devuelve el producto. Si no, devuelve None.\n",
    "\n",
    "    def mostrar_productos(self):\n",
    "        print(f\"-- BANDEJA {self.codigo} --\")\n",
    "        for posicion, producto in self.productos.items():\n",
    "            print(f\"{self.codigo}{posicion}: {producto}\")\n",
    "\n",
    "# Crear bandeja\n",
    "bandejaA = Bandeja(\"A\")\n",
    "bandejaB = Bandeja(\"B\")\n",
    "bandejaC = Bandeja(\"C\")\n",
    "\n",
    "# Agregar productos\n",
    "bandejaA.agregar_producto(\"0\", ProductoSnack(\"Doritos\", 22, 10, 76))\n",
    "bandejaA.agregar_producto(\"1\", ProductoSnack(\"Sabritas Adobadas\", 21, 5, 73))\n",
    "bandejaA.agregar_producto(\"2\", ProductoSnack(\"Sabritas\", 20.40, 5, 75))\n",
    "\n",
    "bandejaB.agregar_producto(\"0\", ProductoSnack(\"Doritos\", 22, 7, 76))\n",
    "\n",
    "bandejaC.agregar_producto(\"0\", ProductoBebida(\"Pepsi\", 15, 6, 600, True))\n",
    "bandejaC.agregar_producto(\"1\", ProductoBebida(\"Coca Cola\", 18, 6, 600))\n",
    "\n",
    "# Mostrar productos\n",
    "bandejaA.mostrar_productos()\n",
    "bandejaB.mostrar_productos()\n",
    "bandejaC.mostrar_productos()\n",
    "\n",
    "# Obtener producto por su posición\n",
    "# producto = bandeja.obtener_producto(\"0\")\n",
    "# print(f\"Producto seleccionado: {producto}\")\n",
    "\n",
    "# producto = bandeja.obtener_producto(\"1\")\n",
    "# print(f\"Producto seleccionado: {producto}\")\n",
    "\n",
    "class MaquinaExpendedora:\n",
    "    def __init__(self):\n",
    "        self.bandejas = {}\n",
    "        self.dinero_ingresado = 0.0\n",
    "\n",
    "    def agregar_bandeja(self, codigo):\n",
    "        if codigo in self.bandejas:\n",
    "            print(f\"Bandeja {codigo} ya existe\")\n",
    "        else:\n",
    "            self.bandejas[codigo] = Bandeja(codigo)\n",
    "        \n",
    "    def mostrar_productos(self):\n",
    "        print(f\"\\n -- PRODUCTOS DISPONIBLES --\")\n",
    "        for codigo, bandeja in self.bandejas.items():\n",
    "            bandeja.mostrar_productos()\n",
    "        print()\n",
    "\n",
    "    def insertar_dinero(self, monto):\n",
    "        self.dinero_ingresado += monto\n",
    "        print(f\"Dinero ingresado: ${self.dinero_ingresado:.2f}\") #.2f delimita a dos decimales\n",
    "\n",
    "    def seleccionar_producto(self, codigo):\n",
    "        if len(codigo) != 2:\n",
    "            print(\"Codigo invalido. Use una letra (A-F) y un numero (0-10)\")\n",
    "            return \n",
    "        \n",
    "\"\"\"         letra, numero = codigo[0].upper(), codigo[1]\n",
    "        if letra not in self.bandejas or not numero.isdigit():\n",
    "            print(\"Codigo Invalido\")\n",
    "            return  \"\"\""
   ]
  }
 ],
 "metadata": {
  "kernelspec": {
   "display_name": "Python 3",
   "language": "python",
   "name": "python3"
  },
  "language_info": {
   "codemirror_mode": {
    "name": "ipython",
    "version": 3
   },
   "file_extension": ".py",
   "mimetype": "text/x-python",
   "name": "python",
   "nbconvert_exporter": "python",
   "pygments_lexer": "ipython3",
   "version": "3.13.0"
  }
 },
 "nbformat": 4,
 "nbformat_minor": 2
}
