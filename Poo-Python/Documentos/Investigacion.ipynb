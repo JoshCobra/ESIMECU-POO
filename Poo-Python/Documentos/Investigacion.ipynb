{
 "cells": [
  {
   "cell_type": "markdown",
   "id": "dcfbce2e-c7e3-46c4-a0fd-caef8b2e52ec",
   "metadata": {},
   "source": [
    "\n",
    "# Instituto Politécnico Nacional \n",
    "<img src=\"https://seeklogo.com/images/I/IPN-logo-BB9124D61B-seeklogo.com.png\" alt=\"ipn-logo\" align=\"right\" width=\"80px\">\n",
    "\n",
    "# Escuela Superior De Ingeniería Mecánica y Eléctrica\n",
    "\n",
    "### Programación Orientada a Objetos: Conceptos Clave\n",
    "\n",
    "### De la Rosa Vázquez Josué\n",
    "\n",
    "---\n"
   ]
  },
  {
   "cell_type": "markdown",
   "id": "b0c0088b-b92b-4cb0-86cd-888a4a0fb248",
   "metadata": {},
   "source": [
    "## Índice\n",
    "1. [Introducción](#introduccion)\n",
    "2. [Desarrollo de los Temas](#desarrollo-de-los-temas)\n",
    "   - [Polimorfismo](#polimorfismo)\n",
    "   - [Polimorfismo Paramétrico](#polimorfismo-paramétrico)\n",
    "   - [Sobrecarga de Operadores](#sobrecarga-de-operadores)\n",
    "   - [Herencia](#herencia)\n",
    "   - [Herencia Simple](#herencia-simple)\n",
    "   - [Herencia Múltiple](#herencia-múltiple)\n",
    "   - [Herencia de Elementos Públicos, Privados y Protegidos](#herencia-de-elementos-públicos-privados-y-protegidos)\n",
    "3. [Ejemplos de Cada Tema](#ejemplos-de-cada-tema)\n",
    "4. [Mapa Mental](#mapa-mental)\n",
    "5. [Conclusión](#conclusión)\n",
    "6. [Bibliografía](#bibliografía)\n",
    "---"
   ]
  },
  {
   "cell_type": "markdown",
   "id": "cbfd24dc-2371-4a24-89f4-4a0e10f6de93",
   "metadata": {},
   "source": [
    "<a id=\"introduccion\"></a>\n",
    "# Introducción\n",
    "\n",
    "La **Programación Orientada a Objetos (POO)** es un paradigma que organiza el software en términos de \"objetos\", los cuales representan entidades \n",
    "del mundo real o conceptos abstractos. En este documento exploraremos conceptos clave de la POO: polimorfismo, sobrecarga de operadores y herencia, junto con sus tipos y alcances. \n",
    "\n",
    "---"
   ]
  },
  {
   "cell_type": "markdown",
   "id": "1814b2e2-67ca-4a66-9f55-51b1b052abe1",
   "metadata": {},
   "source": [
    "<a id=\"desarrollo-de-los-temas\"></a>\n",
    "## Desarrollo de los Temas"
   ]
  },
  {
   "cell_type": "markdown",
   "id": "10807e25-9444-4ea2-9277-eaf459246c26",
   "metadata": {},
   "source": [
    "<a id=\"polimorfismo\"></a>\n",
    "### Polimorfismo\n",
    "**Definición:** El polimorfismo permite que distintas clases respondan de manera única a un método común, haciendo que el código sea más flexible y extensible.\n",
    "\n",
    "**Ventajas:** Facilita la extensibilidad y reduce la duplicación de código.\n",
    "\n",
    "**Ejemplo en Python:**"
   ]
  },
  {
   "cell_type": "code",
   "execution_count": 1,
   "id": "f78f1999-d3c9-4978-b520-a46db6c4e287",
   "metadata": {
    "trusted": true
   },
   "outputs": [
    {
     "name": "stdout",
     "output_type": "stream",
     "text": [
      "¡Guau!\n",
      "¡Miau!\n"
     ]
    }
   ],
   "source": [
    "class Animal:\n",
    "    def hacer_sonido(self):\n",
    "        pass\n",
    "        \n",
    "class Perro(Animal):\n",
    "    def hacer_sonido(self):\n",
    "        return \"¡Guau!\"\n",
    "\n",
    "class Gato(Animal):\n",
    "    def hacer_sonido(self):\n",
    "        return \"¡Miau!\"\n",
    "\n",
    "animales = [Perro(), Gato()]\n",
    "for animal in animales:\n",
    "    print(animal.hacer_sonido())"
   ]
  },
  {
   "cell_type": "markdown",
   "id": "d78741ef-f5cc-42e1-a93f-46278425f9ee",
   "metadata": {},
   "source": [
    "<a id=\"polimorfismo-paramétrico\"></a>\n",
    "\n",
    "### Polimorfismo Paramétrico\n",
    "**Definición:** Este tipo de polimorfismo permite que funciones o métodos operen con diferentes tipos de datos mediante el uso de generics.\n",
    "\n",
    "**Ejemplo en Python:**"
   ]
  },
  {
   "cell_type": "code",
   "execution_count": 2,
   "id": "061ec589-7f1c-48a0-a9d4-166c96bd9054",
   "metadata": {
    "trusted": true
   },
   "outputs": [
    {
     "name": "stdout",
     "output_type": "stream",
     "text": [
      "30\n",
      "tres\n"
     ]
    }
   ],
   "source": [
    "from typing import TypeVar, List\n",
    "\n",
    "T = TypeVar('T')  # T puede ser cualquier tipo\n",
    "\n",
    "def obtener_elemento_medio(lista: List[T]) -> T:\n",
    "    return lista[len(lista) // 2]\n",
    "\n",
    "numeros = [10, 20, 30, 40, 50]\n",
    "palabras = [\"uno\", \"dos\", \"tres\", \"cuatro\"]\n",
    "\n",
    "print(obtener_elemento_medio(numeros)) \n",
    "print(obtener_elemento_medio(palabras))  "
   ]
  },
  {
   "cell_type": "markdown",
   "id": "6cde7ce1-be82-4be8-82ac-00bb650e61d2",
   "metadata": {},
   "source": [
    "<a id=\"sobrecarga-de-operadores\"></a>\n",
    "### Sobrecarga de Operadores\n",
    "**Definición:** Permite redefinir operadores para su uso en objetos personalizados.\n",
    "\n",
    "**Ejemplo en Python:**"
   ]
  },
  {
   "cell_type": "code",
   "execution_count": 3,
   "id": "77ac92c8-c3e7-4046-9a4f-b99090f99c9a",
   "metadata": {
    "trusted": true
   },
   "outputs": [
    {
     "name": "stdout",
     "output_type": "stream",
     "text": [
      "(5, 5)\n"
     ]
    }
   ],
   "source": [
    "class Vector:\n",
    "    def __init__(self, x, y):\n",
    "        self.x = x\n",
    "        self.y = y\n",
    "\n",
    "    def __add__(self, otro):\n",
    "        return Vector(self.x + otro.x, self.y + otro.y)\n",
    "\n",
    "    def __str__(self):\n",
    "        return f\"({self.x}, {self.y})\"\n",
    "\n",
    "v1 = Vector(2, 4)\n",
    "v2 = Vector(3, 1)\n",
    "resultado = v1 + v2\n",
    "print(resultado) "
   ]
  },
  {
   "cell_type": "markdown",
   "id": "78f67f77-cf5b-440c-9f5b-b351f2424e96",
   "metadata": {},
   "source": [
    "<a id=\"herencia\"></a>\n",
    "### Herencia \n",
    "**Definición:** La herencia permite crear una clase derivada que reutiliza y extiende la funcionalidad de una clase base.\n",
    "\n",
    "**Ejemplo en Python:**"
   ]
  },
  {
   "cell_type": "code",
   "execution_count": 4,
   "id": "6e42cf25-a056-4e68-9081-481de24ff5a9",
   "metadata": {
    "trusted": true
   },
   "outputs": [
    {
     "name": "stdout",
     "output_type": "stream",
     "text": [
      "El motor está encendido.\n",
      "El coche está en movimiento.\n"
     ]
    }
   ],
   "source": [
    "class Vehiculo:\n",
    "    def encender_motor(self):\n",
    "        return \"El motor está encendido.\"\n",
    "\n",
    "class Coche(Vehiculo):\n",
    "    def conducir(self):\n",
    "        return \"El coche está en movimiento.\"\n",
    "\n",
    "mi_coche = Coche()\n",
    "print(mi_coche.encender_motor())\n",
    "print(mi_coche.conducir())   \n"
   ]
  },
  {
   "cell_type": "markdown",
   "id": "fc6817b5-9359-4f49-b01a-fbc7531b8791",
   "metadata": {},
   "source": [
    "<a id=\"herencia-simple\"></a>\n",
    "#### Herencia Simple\n",
    "\n",
    "**Definición:** Una clase hereda de una única clase base.\n",
    "\n",
    "**Ejemplo en Python:**"
   ]
  },
  {
   "cell_type": "code",
   "execution_count": 5,
   "id": "d077caaa-0702-44a1-bcbc-ab169ac8ec1c",
   "metadata": {
    "trusted": true
   },
   "outputs": [
    {
     "name": "stdout",
     "output_type": "stream",
     "text": [
      "Juan\n",
      "123\n"
     ]
    }
   ],
   "source": [
    "class Persona:\n",
    "    def __init__(self, nombre):\n",
    "        self.nombre = nombre\n",
    "\n",
    "class Estudiante(Persona):\n",
    "    def __init__(self, nombre, id_estudiante):\n",
    "        super().__init__(nombre)\n",
    "        self.id_estudiante = id_estudiante\n",
    "\n",
    "estudiante = Estudiante(\"Juan\", 123)\n",
    "print(estudiante.nombre)          \n",
    "print(estudiante.id_estudiante)    "
   ]
  },
  {
   "cell_type": "markdown",
   "id": "ac46dc0c-d15d-462c-8227-94b41178ead9",
   "metadata": {},
   "source": [
    "<a id=\"herencia-múltiple\"></a>\n",
    "#### Herencia Múltiple\n",
    "**Definición:** Una clase hereda de múltiples clases base, lo cual puede provocar ambigüedad si no se gestiona correctamente.\n",
    "\n",
    "**Ejemplo en Python:**"
   ]
  },
  {
   "cell_type": "code",
   "execution_count": 6,
   "id": "db5c6c90-cc78-4473-bf9c-ce8112e4c41a",
   "metadata": {
    "trusted": true
   },
   "outputs": [
    {
     "name": "stdout",
     "output_type": "stream",
     "text": [
      "Ana\n",
      "50000\n",
      "Cardiología\n"
     ]
    }
   ],
   "source": [
    "class Persona:\n",
    "    def __init__(self, nombre):\n",
    "        self.nombre = nombre\n",
    "\n",
    "class Empleado:\n",
    "    def __init__(self, salario):\n",
    "        self.salario = salario\n",
    "\n",
    "class Doctor(Persona, Empleado):\n",
    "    def __init__(self, nombre, salario, especialidad):\n",
    "        Persona.__init__(self, nombre)\n",
    "        Empleado.__init__(self, salario)\n",
    "        self.especialidad = especialidad\n",
    "\n",
    "doctor = Doctor(\"Ana\", 50000, \"Cardiología\")\n",
    "print(doctor.nombre)         \n",
    "print(doctor.salario)        \n",
    "print(doctor.especialidad)    "
   ]
  },
  {
   "cell_type": "markdown",
   "id": "8224b715-0216-4e0b-b209-55be92cf33ab",
   "metadata": {},
   "source": [
    "<a id=\"herencia-de-elementos-públicos-privados-y-protegidos\"></a>\n",
    "#### Herencia de Elementos Públicos, Privados y Protegidos\n",
    "**Definicion:** En Python, los atributos protegidos se nombran con un guion bajo (_). \n",
    "Los atributos privados se nombran con dos guiones bajos (__), y los públicos se definen sin guiones.\n",
    "\n",
    "**Ejemplo en Python:**"
   ]
  },
  {
   "cell_type": "code",
   "execution_count": 26,
   "id": "912eaedc",
   "metadata": {},
   "outputs": [
    {
     "name": "stdout",
     "output_type": "stream",
     "text": [
      "Soy público, Soy protegido, Soy privado\n"
     ]
    }
   ],
   "source": [
    "class ClaseBase:\n",
    "    def __init__(self):\n",
    "        self.publico = \"Soy público\"\n",
    "        self._protegido = \"Soy protegido\"\n",
    "        self.__privado = \"Soy privado\"\n",
    "\n",
    "    def obtener_privado(self):\n",
    "        return self.__privado\n",
    "\n",
    "class ClaseDerivada(ClaseBase):\n",
    "    def mostrar(self):\n",
    "        return f\"{self.publico}, {self._protegido}, {self.obtener_privado()}\"\n",
    "\n",
    "objeto = ClaseDerivada()\n",
    "print(objeto.mostrar())"
   ]
  },
  {
   "cell_type": "markdown",
   "id": "4589ca4d-a93d-440a-b665-c144e5ae0e5b",
   "metadata": {},
   "source": [
    "<a id=\"ejemplos-de-cada-tema\"></a>\n",
    "## Ejemplos de Cada Tema\n",
    "A continuación, se incluyen cinco ejemplos para cada tema abordado en el desarrollo."
   ]
  },
  {
   "cell_type": "markdown",
   "id": "f7c5793d-296d-4639-9b85-61bd694ea77b",
   "metadata": {},
   "source": [
    "### Polimorfismo"
   ]
  },
  {
   "cell_type": "markdown",
   "id": "9e266ab8-66ee-443d-a052-61124e10d2cb",
   "metadata": {},
   "source": [
    "1. Ejemplo Animales"
   ]
  },
  {
   "cell_type": "code",
   "execution_count": 7,
   "id": "35c70af7-afbf-479d-a846-ab013e442235",
   "metadata": {
    "trusted": true
   },
   "outputs": [
    {
     "name": "stdout",
     "output_type": "stream",
     "text": [
      "Guau\n",
      "Miau\n"
     ]
    }
   ],
   "source": [
    "class Animal:\n",
    "    def hacer_sonido(self):\n",
    "        return \"Sonido genérico\"\n",
    "\n",
    "class Perro(Animal):\n",
    "    def hacer_sonido(self):\n",
    "        return \"Guau\"\n",
    "\n",
    "class Gato(Animal):\n",
    "    def hacer_sonido(self):\n",
    "        return \"Miau\"\n",
    "\n",
    "for animal in [Perro(), Gato()]:\n",
    "    print(animal.hacer_sonido())"
   ]
  },
  {
   "cell_type": "markdown",
   "id": "2566a7ae-5568-4be6-b31c-8ef2756f3348",
   "metadata": {},
   "source": [
    "2. Ejemplo Vehiculos"
   ]
  },
  {
   "cell_type": "code",
   "execution_count": 8,
   "id": "aec2a8f2-5ae5-4fb6-adae-d2435230273a",
   "metadata": {
    "trusted": true
   },
   "outputs": [
    {
     "name": "stdout",
     "output_type": "stream",
     "text": [
      "El coche avanza\n",
      "El avión despega\n"
     ]
    }
   ],
   "source": [
    "class Vehiculo:\n",
    "    def mover(self):\n",
    "        return \"El vehículo se mueve\"\n",
    "\n",
    "class Coche(Vehiculo):\n",
    "    def mover(self):\n",
    "        return \"El coche avanza\"\n",
    "\n",
    "class Avion(Vehiculo):\n",
    "    def mover(self):\n",
    "        return \"El avión despega\"\n",
    "\n",
    "for vehiculo in [Coche(), Avion()]:\n",
    "    print(vehiculo.mover()) "
   ]
  },
  {
   "cell_type": "markdown",
   "id": "6ee3169e-24e7-4378-a9bf-e538003ac632",
   "metadata": {},
   "source": [
    "3. Ejemplo Herramientas"
   ]
  },
  {
   "cell_type": "code",
   "execution_count": 9,
   "id": "e6f6a18a-4144-4856-9baa-20aba322e9ad",
   "metadata": {
    "trusted": true
   },
   "outputs": [
    {
     "name": "stdout",
     "output_type": "stream",
     "text": [
      "Martillazo\n",
      "Corte\n"
     ]
    }
   ],
   "source": [
    "class Herramienta:\n",
    "    def usar(self):\n",
    "        return \"Usando herramienta\"\n",
    "\n",
    "class Martillo(Herramienta):\n",
    "    def usar(self):\n",
    "        return \"Martillazo\"\n",
    "\n",
    "class Sierra(Herramienta):\n",
    "    def usar(self):\n",
    "        return \"Corte\"\n",
    "\n",
    "for herramienta in [Martillo(), Sierra()]:\n",
    "    print(herramienta.usar()) "
   ]
  },
  {
   "cell_type": "markdown",
   "id": "637cc4da-8e12-4213-930d-bb72c284be12",
   "metadata": {},
   "source": [
    "4. Ejemplo Electrodomesticos"
   ]
  },
  {
   "cell_type": "code",
   "execution_count": 10,
   "id": "e6197ebf-f9ad-4b2b-9670-dde3630b7609",
   "metadata": {
    "trusted": true
   },
   "outputs": [
    {
     "name": "stdout",
     "output_type": "stream",
     "text": [
      "Lavadora encendida\n",
      "Microondas calentando\n"
     ]
    }
   ],
   "source": [
    "class Electrodomestico:\n",
    "    def encender(self):\n",
    "        return \"Encendiendo...\"\n",
    "\n",
    "class Lavadora(Electrodomestico):\n",
    "    def encender(self):\n",
    "        return \"Lavadora encendida\"\n",
    "\n",
    "class Microondas(Electrodomestico):\n",
    "    def encender(self):\n",
    "        return \"Microondas calentando\"\n",
    "\n",
    "for aparato in [Lavadora(), Microondas()]:\n",
    "    print(aparato.encender()) "
   ]
  },
  {
   "cell_type": "markdown",
   "id": "61d6853c-77e1-451a-9f8c-6d994dbe9890",
   "metadata": {},
   "source": [
    "5. Ejemplo Fruta"
   ]
  },
  {
   "cell_type": "code",
   "execution_count": 11,
   "id": "389bab99-fde2-4049-bf3c-3b5f51b882dd",
   "metadata": {
    "trusted": true
   },
   "outputs": [
    {
     "name": "stdout",
     "output_type": "stream",
     "text": [
      "Soy una manzana\n",
      "Soy una naranja\n"
     ]
    }
   ],
   "source": [
    "class Fruta:\n",
    "    def descripcion(self):\n",
    "        return \"Fruta genérica\"\n",
    "\n",
    "class Manzana(Fruta):\n",
    "    def descripcion(self):\n",
    "        return \"Soy una manzana\"\n",
    "\n",
    "class Naranja(Fruta):\n",
    "    def descripcion(self):\n",
    "        return \"Soy una naranja\"\n",
    "\n",
    "for fruta in [Manzana(), Naranja()]:\n",
    "    print(fruta.descripcion()) "
   ]
  },
  {
   "cell_type": "markdown",
   "id": "5a9689ef-cc0a-4096-95bb-6156e9a1cfde",
   "metadata": {},
   "source": [
    "### Polimorfismo Paramétrico"
   ]
  },
  {
   "cell_type": "markdown",
   "id": "e4a03cb2-17f4-476d-b73b-8111863b6e14",
   "metadata": {},
   "source": [
    "1. Función que devuelve el valor medio en listas de cualquier tipo"
   ]
  },
  {
   "cell_type": "code",
   "execution_count": 12,
   "id": "6a4cdcd2-882d-49c5-9233-9e42ed79dbd9",
   "metadata": {
    "trusted": true
   },
   "outputs": [
    {
     "name": "stdout",
     "output_type": "stream",
     "text": [
      "2\n",
      "dos\n"
     ]
    }
   ],
   "source": [
    "from typing import List, TypeVar\n",
    "\n",
    "T = TypeVar('T')\n",
    "\n",
    "def obtener_medio(lista: List[T]) -> T:\n",
    "    return lista[len(lista) // 2]\n",
    "\n",
    "print(obtener_medio([1, 2, 3]))  \n",
    "print(obtener_medio([\"uno\", \"dos\", \"tres\"]))  "
   ]
  },
  {
   "cell_type": "markdown",
   "id": "5065685b-d013-418f-9d70-dd9a87f6585e",
   "metadata": {},
   "source": [
    "2. Función de búsqueda de máximo en listas de cualquier tipo"
   ]
  },
  {
   "cell_type": "code",
   "execution_count": 13,
   "id": "83caa3b7-e306-486d-9c31-2d1ddfe42b4e",
   "metadata": {
    "trusted": true
   },
   "outputs": [
    {
     "name": "stdout",
     "output_type": "stream",
     "text": [
      "5\n",
      "c\n"
     ]
    }
   ],
   "source": [
    "def encontrar_maximo(lista: List[T]) -> T:\n",
    "    return max(lista)\n",
    "\n",
    "print(encontrar_maximo([3, 5, 2]))  \n",
    "print(encontrar_maximo([\"a\", \"b\", \"c\"])) "
   ]
  },
  {
   "cell_type": "markdown",
   "id": "99f0cebc-28cf-4a65-b449-cb132ede07ac",
   "metadata": {},
   "source": [
    "3. Función de intercambio de valores en una tupla"
   ]
  },
  {
   "cell_type": "markdown",
   "id": "61e50e06-0ee5-4039-8bd4-41cca03d5f5e",
   "metadata": {},
   "source": [
    "def intercambiar(a: T, b: T) -> tuple:\n",
    "    return b, a\n",
    "\n",
    "print(intercambiar(3, 5)) "
   ]
  },
  {
   "cell_type": "markdown",
   "id": "13260f95-4ca2-4350-ada1-6c9a711bc4ee",
   "metadata": {},
   "source": [
    "4. Función que devuelve el primer elemento de una lista de cualquier tipo"
   ]
  },
  {
   "cell_type": "code",
   "execution_count": 14,
   "id": "b12c9f02-9448-4b3e-958a-07cc164bea39",
   "metadata": {
    "trusted": true
   },
   "outputs": [
    {
     "name": "stdout",
     "output_type": "stream",
     "text": [
      "10\n"
     ]
    }
   ],
   "source": [
    "def primer_elemento(lista: List[T]) -> T:\n",
    "    return lista[0]\n",
    "\n",
    "print(primer_elemento([10, 20, 30]))"
   ]
  },
  {
   "cell_type": "markdown",
   "id": "7aab77f7-810d-417b-ba5b-3d6aa1bb6a03",
   "metadata": {},
   "source": [
    "5. Función que compara dos valores de cualquier tipo"
   ]
  },
  {
   "cell_type": "code",
   "execution_count": 15,
   "id": "9d3c34d2-4bfa-4f5c-afd6-5cbf6a03f27f",
   "metadata": {
    "trusted": true
   },
   "outputs": [
    {
     "name": "stdout",
     "output_type": "stream",
     "text": [
      "True\n",
      "False\n"
     ]
    }
   ],
   "source": [
    "def son_iguales(a: T, b: T) -> bool:\n",
    "    return a == b\n",
    "\n",
    "print(son_iguales(5, 5)) \n",
    "print(son_iguales(\"hola\", \"adios\")) "
   ]
  },
  {
   "cell_type": "markdown",
   "id": "ba3d7566-66b3-4383-9f16-5d79203ad184",
   "metadata": {},
   "source": [
    "### Sobrecarga de Operadores"
   ]
  },
  {
   "cell_type": "markdown",
   "id": "b37451b2-e0d2-47ac-b894-6efb73240fb7",
   "metadata": {},
   "source": [
    "1. Suma de vectores"
   ]
  },
  {
   "cell_type": "code",
   "execution_count": 16,
   "id": "b236dec7-e809-4ef7-af2e-492fd4c12f11",
   "metadata": {
    "trusted": true
   },
   "outputs": [
    {
     "name": "stdout",
     "output_type": "stream",
     "text": [
      "3 4\n"
     ]
    }
   ],
   "source": [
    "class Vector:\n",
    "    def __init__(self, x, y):\n",
    "        self.x = x\n",
    "        self.y = y\n",
    "\n",
    "    def __add__(self, otro):\n",
    "        return Vector(self.x + otro.x, self.y + otro.y)\n",
    "\n",
    "v1 = Vector(2, 3)\n",
    "v2 = Vector(1, 1)\n",
    "resultado = v1 + v2\n",
    "print(resultado.x, resultado.y) "
   ]
  },
  {
   "cell_type": "markdown",
   "id": "865679f5-bd0a-4742-a956-2de8a05bfbfa",
   "metadata": {},
   "source": [
    "2. Sobrecarga de operador de igualdad (==) en una clase Persona"
   ]
  },
  {
   "cell_type": "code",
   "execution_count": 17,
   "id": "58357fb4-66cd-4c52-a044-ba6f67229049",
   "metadata": {
    "trusted": true
   },
   "outputs": [
    {
     "name": "stdout",
     "output_type": "stream",
     "text": [
      "True\n"
     ]
    }
   ],
   "source": [
    "class Persona:\n",
    "    def __init__(self, nombre):\n",
    "        self.nombre = nombre\n",
    "\n",
    "    def __eq__(self, otro):\n",
    "        return self.nombre == otro.nombre\n",
    "\n",
    "p1 = Persona(\"Juan\")\n",
    "p2 = Persona(\"Juan\")\n",
    "print(p1 == p2) "
   ]
  },
  {
   "cell_type": "markdown",
   "id": "8af97f4d-b2fc-40dd-bd18-6d133d627b8a",
   "metadata": {},
   "source": [
    "3. Multiplicación de números en una clase personalizada"
   ]
  },
  {
   "cell_type": "code",
   "execution_count": 18,
   "id": "7fe66698-9268-4fa0-908e-4127ab9bd441",
   "metadata": {
    "trusted": true
   },
   "outputs": [
    {
     "name": "stdout",
     "output_type": "stream",
     "text": [
      "12\n"
     ]
    }
   ],
   "source": [
    "class Numero:\n",
    "    def __init__(self, valor):\n",
    "        self.valor = valor\n",
    "\n",
    "    def __mul__(self, otro):\n",
    "        return Numero(self.valor * otro.valor)\n",
    "\n",
    "n1 = Numero(3)\n",
    "n2 = Numero(4)\n",
    "resultado = n1 * n2\n",
    "print(resultado.valor)"
   ]
  },
  {
   "cell_type": "markdown",
   "id": "cee4f0b5-afa9-4f9e-8de8-e9238c20bfb5",
   "metadata": {},
   "source": [
    "4. Sobrecarga de __str__ para representar una clase Producto"
   ]
  },
  {
   "cell_type": "code",
   "execution_count": 19,
   "id": "0cbfe15a-98fe-4628-ba75-1d130b90a472",
   "metadata": {
    "trusted": true
   },
   "outputs": [
    {
     "name": "stdout",
     "output_type": "stream",
     "text": [
      "Manzana cuesta 2 USD\n"
     ]
    }
   ],
   "source": [
    "class Producto:\n",
    "    def __init__(self, nombre, precio):\n",
    "        self.nombre = nombre\n",
    "        self.precio = precio\n",
    "\n",
    "    def __str__(self):\n",
    "        return f\"{self.nombre} cuesta {self.precio} USD\"\n",
    "\n",
    "producto = Producto(\"Manzana\", 2)\n",
    "print(producto) "
   ]
  },
  {
   "cell_type": "markdown",
   "id": "464457b5-9be7-4844-bb18-8fd1b20adaf8",
   "metadata": {},
   "source": [
    "5. Comparación (<) entre objetos Persona por edad"
   ]
  },
  {
   "cell_type": "code",
   "execution_count": 20,
   "id": "06d3d544-c0ce-423b-b1f5-c76ab5c197a8",
   "metadata": {
    "trusted": true
   },
   "outputs": [
    {
     "name": "stdout",
     "output_type": "stream",
     "text": [
      "True\n"
     ]
    }
   ],
   "source": [
    "class Persona:\n",
    "    def __init__(self, nombre, edad):\n",
    "        self.nombre = nombre\n",
    "        self.edad = edad\n",
    "\n",
    "    def __lt__(self, otro):\n",
    "        return self.edad < otro.edad\n",
    "\n",
    "p1 = Persona(\"Juan\", 20)\n",
    "p2 = Persona(\"Ana\", 30)\n",
    "print(p1 < p2)"
   ]
  },
  {
   "cell_type": "markdown",
   "id": "135c2acd-d14e-4fce-973f-93acdc716e00",
   "metadata": {},
   "source": [
    "### Herencia"
   ]
  },
  {
   "cell_type": "markdown",
   "id": "4d310762-e84c-4bba-ae64-b32098fb690a",
   "metadata": {},
   "source": [
    "1. Clase base Animal con clase derivada Perro"
   ]
  },
  {
   "cell_type": "code",
   "execution_count": 21,
   "id": "efaebc6b-4f97-4cb3-8fd9-5a39aa8c5d0b",
   "metadata": {
    "trusted": true
   },
   "outputs": [
    {
     "name": "stdout",
     "output_type": "stream",
     "text": [
      "Guau\n"
     ]
    }
   ],
   "source": [
    "class Animal:\n",
    "    def sonido(self):\n",
    "        return \"Sonido genérico\"\n",
    "\n",
    "class Perro(Animal):\n",
    "    def sonido(self):\n",
    "        return \"Guau\"\n",
    "\n",
    "perro = Perro()\n",
    "print(perro.sonido()) "
   ]
  },
  {
   "cell_type": "markdown",
   "id": "c9628bf9-57f5-4693-aaa8-afd47656875a",
   "metadata": {},
   "source": [
    "2. Clase base Vehiculo con clase derivada Coche"
   ]
  },
  {
   "cell_type": "code",
   "execution_count": 22,
   "id": "7602acbf-8ccf-4815-80fc-d86987092910",
   "metadata": {
    "trusted": true
   },
   "outputs": [
    {
     "name": "stdout",
     "output_type": "stream",
     "text": [
      "Coche encendido\n"
     ]
    }
   ],
   "source": [
    "class Vehiculo:\n",
    "    def encender(self):\n",
    "        return \"Vehículo encendido\"\n",
    "\n",
    "class Coche(Vehiculo):\n",
    "    def encender(self):\n",
    "        return \"Coche encendido\"\n",
    "\n",
    "coche = Coche()\n",
    "print(coche.encender()) "
   ]
  },
  {
   "cell_type": "markdown",
   "id": "d99e60de-8d03-4e5c-b821-47113226fa11",
   "metadata": {},
   "source": [
    "3. Clase base Persona con clase derivada Estudiante"
   ]
  },
  {
   "cell_type": "code",
   "execution_count": 23,
   "id": "05010580-3c24-47c7-b0e2-ad0ec0ddd6bf",
   "metadata": {
    "trusted": true
   },
   "outputs": [
    {
     "name": "stdout",
     "output_type": "stream",
     "text": [
      "Hola\n",
      "Estudiando\n"
     ]
    }
   ],
   "source": [
    "class Persona:\n",
    "    def hablar(self):\n",
    "        return \"Hola\"\n",
    "\n",
    "class Estudiante(Persona):\n",
    "    def estudiar(self):\n",
    "        return \"Estudiando\"\n",
    "\n",
    "estudiante = Estudiante()\n",
    "print(estudiante.hablar()) \n",
    "print(estudiante.estudiar()) "
   ]
  },
  {
   "cell_type": "markdown",
   "id": "fb823dfe-4581-4320-9f2b-38b8515ae86b",
   "metadata": {},
   "source": [
    "4. Clase base Electrodomestico con clase derivada Lavadora"
   ]
  },
  {
   "cell_type": "code",
   "execution_count": 24,
   "id": "ea4e414f-66d8-4a18-9b35-dc1ed2f94c15",
   "metadata": {
    "trusted": true
   },
   "outputs": [
    {
     "name": "stdout",
     "output_type": "stream",
     "text": [
      "Electrodoméstico encendido\n",
      "Lavando ropa\n"
     ]
    }
   ],
   "source": [
    "class Electrodomestico:\n",
    "    def encender(self):\n",
    "        return \"Electrodoméstico encendido\"\n",
    "\n",
    "class Lavadora(Electrodomestico):\n",
    "    def lavar(self):\n",
    "        return \"Lavando ropa\"\n",
    "\n",
    "lavadora = Lavadora()\n",
    "print(lavadora.encender()) \n",
    "print(lavadora.lavar())  "
   ]
  },
  {
   "cell_type": "markdown",
   "id": "47a200cb-f3bb-411a-aa3c-39861e07cb7c",
   "metadata": {},
   "source": [
    "5. Clase base Figura con clase derivada Circulo"
   ]
  },
  {
   "cell_type": "code",
   "execution_count": 25,
   "id": "80ad84ee-0bfe-4843-9e3b-1e3cfdf69cbc",
   "metadata": {
    "trusted": true
   },
   "outputs": [
    {
     "name": "stdout",
     "output_type": "stream",
     "text": [
      "Área del círculo calculada\n"
     ]
    }
   ],
   "source": [
    "class Figura:\n",
    "    def area(self):\n",
    "        return \"Área no definida\"\n",
    "\n",
    "class Circulo(Figura):\n",
    "    def area(self):\n",
    "        return \"Área del círculo calculada\"\n",
    "\n",
    "circulo = Circulo()\n",
    "print(circulo.area()) "
   ]
  },
  {
   "cell_type": "markdown",
   "id": "3b5e074a-9d5e-4c67-b0a1-21a550523193",
   "metadata": {},
   "source": [
    "<a src=\"mapa-mental\"></a>\n",
    "## Mapa Mental\n",
    "\n",
    "[Mi Mapa Mental](https://xmind.ai/share/DXJAxITo?xid=F40Yz1Pr)"
   ]
  },
  {
   "cell_type": "markdown",
   "id": "ec279f78-078e-4ae3-9f55-cefa67a4369c",
   "metadata": {},
   "source": [
    "<a id=\"conclusión\"></a>\n",
    "## Conclusión\n",
    "La POO permite una organización modular y flexible en el desarrollo de software. Conceptos como el polimorfismo y la herencia simplifican la reutilización de código, aunque también presentan retos como la gestión de la ambigüedad en herencia múltiple y sobrecarga de operadores."
   ]
  },
  {
   "cell_type": "markdown",
   "id": "f452de46-a971-4f56-b259-d37984b07233",
   "metadata": {},
   "source": [
    "<a id=\"bibliografía\"></a>\n",
    "## Bibliografía\n",
    "\n",
    "1. [\"Lutz, M. (2013). Learning Python. O'Reilly Media.\"](https://cfm.ehu.es/ricardo/docs/python/Learning_Python.pdf)\n",
    "2. [Barry, P. (2010). Head First Python: A Brain-Friendly Guide. O'Reilly Media](https://elmoukrie.com/wp-content/uploads/2022/05/luciano-ramalho-fluent-python_-clear-concise-and-effective-programming-oreilly-media-2022.pdf)\n",
    "3. [Beazley, D. M., & Jones, B. K. (2013). Python Cookbook. O'Reilly Media.](https://github.com/lpvcpp/learn_python/blob/master/D.%20Beazley%2C%20B.K.%20Jones%20-%20Python%20Cookbook%2C%203rd%20Edition.%202013.pdf)"
   ]
  }
 ],
 "metadata": {
  "kernelspec": {
   "display_name": "Python 3",
   "language": "python",
   "name": "python3"
  },
  "language_info": {
   "codemirror_mode": {
    "name": "ipython",
    "version": 3
   },
   "file_extension": ".py",
   "mimetype": "text/x-python",
   "name": "python",
   "nbconvert_exporter": "python",
   "pygments_lexer": "ipython3",
   "version": "3.13.0"
  }
 },
 "nbformat": 4,
 "nbformat_minor": 5
}
