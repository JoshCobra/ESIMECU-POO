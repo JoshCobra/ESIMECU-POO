{
 "cells": [
  {
   "cell_type": "markdown",
   "id": "ce73d1a5-b45a-4436-9899-0563be37616e",
   "metadata": {},
   "source": [
    "# Avance Proyecto Maquina Expendedora\n",
    "\n",
    "Se implementaron las clases hijas de la clase producto, en este caso, con las variaciones de `ProductoSnack` y `ProductoBebida`, siendo hijas de la clase padre `Producto`\n",
    "\n",
    "- La clase `ProductoSnack`: Agrega el tamaño del snack y lo formatea usando el metodo `__str__` de la clase padre `Producto`, y añadiendo el tamaño del snack, por lo que al ser creado el producto se debera indicar el tamaño del snack en gramos."
   ]
  },
  {
   "cell_type": "code",
   "execution_count": 3,
   "id": "49b1da0b-9c5d-4d7b-925b-5dd7aabc8143",
   "metadata": {},
   "outputs": [],
   "source": [
    "# Clase Producto Snack    \n",
    "class ProductoSnack(Producto):\n",
    "    def __init__(self, nombre, precio, stock, tamanio):\n",
    "        super().__init__(nombre, precio, stock)\n",
    "        self.tamanio = tamanio\n",
    "\n",
    "    def __str__(self):\n",
    "        return f\" {super().__str__()} Tamaño: {self.tamanio}gr\""
   ]
  },
  {
   "cell_type": "markdown",
   "id": "a96cad0a-4ecc-47c5-9b3b-bf5bcfb3a10a",
   "metadata": {},
   "source": [
    "- La clase `ProductoBebida`: Agrega, ademas del tamaño como la clase `ProductoSnack`, si es bebida refrigerada o no, utilizando valores booleanos y validandolos en el metodo `__str__` para imprimir un resultado.\n",
    "> Se intento que la clase `ProductoBebida` herede de producto snack para reutilizar el atributo `tamanio` sin embargo se desecho esta idea por que la herencia no fue del todo logica"
   ]
  },
  {
   "cell_type": "code",
   "execution_count": 5,
   "id": "a706edad-3c7f-4b1d-9a26-edc10fcee893",
   "metadata": {},
   "outputs": [],
   "source": [
    "# Clase Producto Bebida\n",
    "class ProductoBebida(Producto):\n",
    "    def __init__(self, nombre, precio, stock, tamanio, refrigerado=False):\n",
    "        super().__init__(nombre, precio, stock)\n",
    "        self.tamanio = tamanio\n",
    "        self.refrigerado = refrigerado\n",
    "\n",
    "    def __str__(self):\n",
    "        if self.refrigerado:\n",
    "            return f\"{super().__str__()} Tamaño: {self.tamanio}ml (Refrigerado)\"\n",
    "        else:\n",
    "            return f\"{super().__str__()} Tamaño: {self.tamanio}ml (No Refrigerado)\""
   ]
  },
  {
   "cell_type": "markdown",
   "id": "0e3d78db-a13b-45b8-8253-a206f7b9b0d4",
   "metadata": {},
   "source": [
    "### Funcionamiento del programa ***hasta esta revision***"
   ]
  },
  {
   "cell_type": "code",
   "execution_count": 6,
   "id": "af0bea61-e99f-4381-adae-6987bfb395e3",
   "metadata": {},
   "outputs": [
    {
     "name": "stdout",
     "output_type": "stream",
     "text": [
      "\n",
      " -- PRODUCTOS DISPONIBLES BANDEJA A --\n",
      "A0:  Doritos - $22 (Stock: 10) Tamaño: 76gr\n",
      "A1:  Sabritas Adobadas - $21 (Stock: 5) Tamaño: 73gr\n",
      "A2:  Sabritas - $20.4 (Stock: 5) Tamaño: 75gr\n",
      "\n",
      " -- PRODUCTOS DISPONIBLES BANDEJA B --\n",
      "B0:  Doritos - $22 (Stock: 7) Tamaño: 76gr\n",
      "\n",
      " -- PRODUCTOS DISPONIBLES BANDEJA C --\n",
      "C0: Pepsi - $15 (Stock: 6) Tamaño: 600ml (Refrigerado)\n",
      "C1: Coca Cola - $18 (Stock: 6) Tamaño: 600ml (No Refrigerado)\n"
     ]
    }
   ],
   "source": [
    "# Clase Producto\n",
    "class Producto:\n",
    "    def __init__(self, nombre, precio, stock):\n",
    "        self.nombre = nombre\n",
    "        self.precio = precio\n",
    "        self.stock = stock\n",
    "\n",
    "    def __str__(self):\n",
    "        # devuelve información del producto, nombre,precio,stock\n",
    "        return f\"{self.nombre} - ${self.precio} (Stock: {self.stock})\"\n",
    "\n",
    "# Clase Bandeja\n",
    "class Bandeja:\n",
    "    def __init__(self, codigo):\n",
    "        self.codigo = codigo\n",
    "        self.productos = {} #Diccionario para los productos\n",
    "\n",
    "    def agregar_producto(self, posicion, producto):\n",
    "        if posicion in self.productos:\n",
    "            print(f\"Ya se encuentra un producto en la posición {posicion}\")\n",
    "        else :\n",
    "            self.productos[posicion] = producto\n",
    "\n",
    "    def obtener_producto(self,posicion):\n",
    "        return self.productos.get(posicion, None) # método get para obtener el producto indicando mediante su posición\n",
    "        # verifica si la posición existe y devuelve el producto. Si no, devuelve None.\n",
    "\n",
    "    def mostrar_productos(self):\n",
    "        print(f\"\\n -- PRODUCTOS DISPONIBLES BANDEJA {self.codigo} --\")\n",
    "        for posicion, producto in self.productos.items():\n",
    "            print(f\"{self.codigo}{posicion}: {producto}\")\n",
    "\n",
    "# Crear bandeja\n",
    "bandejaA = Bandeja(\"A\")\n",
    "bandejaB = Bandeja(\"B\")\n",
    "bandejaC = Bandeja(\"C\")\n",
    "\n",
    "# Agregar productos\n",
    "bandejaA.agregar_producto(\"0\", ProductoSnack(\"Doritos\", 22, 10, 76))\n",
    "bandejaA.agregar_producto(\"1\", ProductoSnack(\"Sabritas Adobadas\", 21, 5, 73))\n",
    "bandejaA.agregar_producto(\"2\", ProductoSnack(\"Sabritas\", 20.40, 5, 75))\n",
    "\n",
    "bandejaB.agregar_producto(\"0\", ProductoSnack(\"Doritos\", 22, 7, 76))\n",
    "\n",
    "bandejaC.agregar_producto(\"0\", ProductoBebida(\"Pepsi\", 15, 6, 600, True))\n",
    "bandejaC.agregar_producto(\"1\", ProductoBebida(\"Coca Cola\", 18, 6, 600))\n",
    "\n",
    "# Mostrar productos\n",
    "bandejaA.mostrar_productos()\n",
    "bandejaB.mostrar_productos()\n",
    "bandejaC.mostrar_productos()"
   ]
  }
 ],
 "metadata": {
  "kernelspec": {
   "display_name": "Python 3 (ipykernel)",
   "language": "python",
   "name": "python3"
  },
  "language_info": {
   "codemirror_mode": {
    "name": "ipython",
    "version": 3
   },
   "file_extension": ".py",
   "mimetype": "text/x-python",
   "name": "python",
   "nbconvert_exporter": "python",
   "pygments_lexer": "ipython3",
   "version": "3.13.0"
  }
 },
 "nbformat": 4,
 "nbformat_minor": 5
}
